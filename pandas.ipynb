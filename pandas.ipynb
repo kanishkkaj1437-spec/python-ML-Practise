{
 "cells": [
  {
   "cell_type": "code",
   "execution_count": 1,
   "id": "42e2c4a0-79ad-441f-a059-56d3add01405",
   "metadata": {},
   "outputs": [
    {
     "name": "stdout",
     "output_type": "stream",
     "text": [
      "hello\n"
     ]
    }
   ],
   "source": [
    "print(\"hello\")"
   ]
  },
  {
   "cell_type": "markdown",
   "id": "8eca3993-1c09-4e82-af5d-875e5c7d192a",
   "metadata": {},
   "source": [
    "# header\n",
    "\n",
    "**bold** and _italics items_ go"
   ]
  },
  {
   "cell_type": "code",
   "execution_count": 2,
   "id": "ca4c9300-e0d5-4dc7-bc7f-16b3bfe84ab0",
   "metadata": {},
   "outputs": [
    {
     "ename": "ImportError",
     "evalue": "cannot import name 'series' from 'pandas' (C:\\Users\\Asus\\anaconda3\\lib\\site-packages\\pandas\\__init__.py)",
     "output_type": "error",
     "traceback": [
      "\u001b[1;31m---------------------------------------------------------------------------\u001b[0m",
      "\u001b[1;31mImportError\u001b[0m                               Traceback (most recent call last)",
      "\u001b[1;32m<ipython-input-2-733aff3c7810>\u001b[0m in \u001b[0;36m<module>\u001b[1;34m\u001b[0m\n\u001b[1;32m----> 1\u001b[1;33m \u001b[1;32mfrom\u001b[0m \u001b[0mpandas\u001b[0m \u001b[1;32mimport\u001b[0m \u001b[0mseries\u001b[0m\u001b[1;33m\u001b[0m\u001b[1;33m\u001b[0m\u001b[0m\n\u001b[0m",
      "\u001b[1;31mImportError\u001b[0m: cannot import name 'series' from 'pandas' (C:\\Users\\Asus\\anaconda3\\lib\\site-packages\\pandas\\__init__.py)"
     ]
    }
   ],
   "source": [
    "from pandas import series"
   ]
  },
  {
   "cell_type": "code",
   "execution_count": 3,
   "id": "7adad5b9-c83e-434c-9f90-c57ce65878fe",
   "metadata": {},
   "outputs": [],
   "source": [
    "from pandas import Series\n"
   ]
  },
  {
   "cell_type": "code",
   "execution_count": 4,
   "id": "ed6752f1-385c-4695-b82d-8f6973900360",
   "metadata": {},
   "outputs": [
    {
     "data": {
      "text/plain": [
       "0     21\n",
       "1      1\n",
       "2     -8\n",
       "3    111\n",
       "dtype: int64"
      ]
     },
     "execution_count": 4,
     "metadata": {},
     "output_type": "execute_result"
    }
   ],
   "source": [
    "Series([21,1,-8,111])\n"
   ]
  },
  {
   "cell_type": "code",
   "execution_count": 5,
   "id": "fcf0058d-23fd-488e-a387-70e3aaccce84",
   "metadata": {},
   "outputs": [
    {
     "data": {
      "text/plain": [
       "a     21\n",
       "b      1\n",
       "c     -8\n",
       "d    111\n",
       "dtype: int64"
      ]
     },
     "execution_count": 5,
     "metadata": {},
     "output_type": "execute_result"
    }
   ],
   "source": [
    "Series([21,1,-8,111],index=['a','b','c','d'])"
   ]
  },
  {
   "cell_type": "code",
   "execution_count": 9,
   "id": "54e63cb0-fd6a-4f26-a4a3-810d0c3fc551",
   "metadata": {},
   "outputs": [
    {
     "data": {
      "text/plain": [
       "5     21\n",
       "6      1\n",
       "7     -8\n",
       "8    111\n",
       "dtype: int64"
      ]
     },
     "execution_count": 9,
     "metadata": {},
     "output_type": "execute_result"
    }
   ],
   "source": [
    "Series([21,1,-8,111],index=range(5,9))"
   ]
  },
  {
   "cell_type": "code",
   "execution_count": 10,
   "id": "294ac333-837e-46bb-b287-547bff63f3f5",
   "metadata": {},
   "outputs": [],
   "source": [
    "s=Series([21,1,-8,111],index=range(5,9))"
   ]
  },
  {
   "cell_type": "code",
   "execution_count": 1,
   "id": "8f1ed20a-6435-45d6-9317-27ac824f00b4",
   "metadata": {},
   "outputs": [
    {
     "ename": "NameError",
     "evalue": "name 'Series' is not defined",
     "output_type": "error",
     "traceback": [
      "\u001b[1;31m---------------------------------------------------------------------------\u001b[0m",
      "\u001b[1;31mNameError\u001b[0m                                 Traceback (most recent call last)",
      "\u001b[1;32m<ipython-input-1-f8a5977c510e>\u001b[0m in \u001b[0;36m<module>\u001b[1;34m\u001b[0m\n\u001b[1;32m----> 1\u001b[1;33m \u001b[0mSeries\u001b[0m\u001b[1;33m(\u001b[0m\u001b[1;33m[\u001b[0m\u001b[1;36m102\u001b[0m\u001b[1;33m,\u001b[0m\u001b[1;36m11\u001b[0m\u001b[1;33m,\u001b[0m\u001b[1;36m522\u001b[0m\u001b[1;33m,\u001b[0m\u001b[1;36m87\u001b[0m\u001b[1;33m,\u001b[0m\u001b[1;36m145\u001b[0m\u001b[1;33m,\u001b[0m\u001b[1;36m785\u001b[0m\u001b[1;33m,\u001b[0m\u001b[1;36m98\u001b[0m\u001b[1;33m,\u001b[0m\u001b[1;36m652\u001b[0m\u001b[1;33m,\u001b[0m\u001b[1;36m487\u001b[0m\u001b[1;33m,\u001b[0m\u001b[1;36m514\u001b[0m\u001b[1;33m]\u001b[0m\u001b[1;33m,\u001b[0m\u001b[0mindex\u001b[0m\u001b[1;33m=\u001b[0m\u001b[1;33m[\u001b[0m\u001b[1;36m2001\u001b[0m\u001b[1;33m,\u001b[0m\u001b[1;36m2003\u001b[0m\u001b[1;33m,\u001b[0m\u001b[1;36m2005\u001b[0m\u001b[1;33m,\u001b[0m\u001b[1;36m2007\u001b[0m\u001b[1;33m,\u001b[0m\u001b[1;36m2009\u001b[0m\u001b[1;33m,\u001b[0m\u001b[1;36m2011\u001b[0m\u001b[1;33m,\u001b[0m\u001b[1;36m2013\u001b[0m\u001b[1;33m,\u001b[0m\u001b[1;36m2015\u001b[0m\u001b[1;33m,\u001b[0m\u001b[1;36m2017\u001b[0m\u001b[1;33m,\u001b[0m\u001b[1;36m2019\u001b[0m\u001b[1;33m]\u001b[0m\u001b[1;33m)\u001b[0m\u001b[1;33m\u001b[0m\u001b[1;33m\u001b[0m\u001b[0m\n\u001b[0m",
      "\u001b[1;31mNameError\u001b[0m: name 'Series' is not defined"
     ]
    }
   ],
   "source": [
    "Series([102,11,522,87,145,785,98,652,487,514],index=[2001,2003,2005,2007,2009,2011,2013,2015,2017,2019])"
   ]
  },
  {
   "cell_type": "code",
   "execution_count": 2,
   "id": "05b0504f-cec2-4361-8d07-9236cd9968d0",
   "metadata": {},
   "outputs": [],
   "source": [
    "from pandas import Series"
   ]
  },
  {
   "cell_type": "code",
   "execution_count": 3,
   "id": "4aab9d89-3b48-40a5-876a-2159c2edda24",
   "metadata": {},
   "outputs": [
    {
     "ename": "SyntaxError",
     "evalue": "invalid syntax (<ipython-input-3-7d239242f484>, line 1)",
     "output_type": "error",
     "traceback": [
      "\u001b[1;36m  File \u001b[1;32m\"<ipython-input-3-7d239242f484>\"\u001b[1;36m, line \u001b[1;32m1\u001b[0m\n\u001b[1;33m    as=Series([102,11,522,87,145,785,98,652,487,514],index=[2001,2003,2005,2007,2009,2011,2013,2015,2017,2019])\u001b[0m\n\u001b[1;37m    ^\u001b[0m\n\u001b[1;31mSyntaxError\u001b[0m\u001b[1;31m:\u001b[0m invalid syntax\n"
     ]
    }
   ],
   "source": [
    "as=Series([102,11,522,87,145,785,98,652,487,514],index=[2001,2003,2005,2007,2009,2011,2013,2015,2017,2019])"
   ]
  },
  {
   "cell_type": "code",
   "execution_count": 4,
   "id": "26662aa8-dd01-4c7a-9cdd-614bdfb0d9bc",
   "metadata": {},
   "outputs": [],
   "source": [
    "ss=Series([102,11,522,87,145,785,98,652,487,514],index=[2001,2003,2005,2007,2009,2011,2013,2015,2017,2019])"
   ]
  },
  {
   "cell_type": "code",
   "execution_count": 5,
   "id": "8a8e52b3-cf72-4a31-ab75-3d5810262f16",
   "metadata": {},
   "outputs": [
    {
     "data": {
      "text/plain": [
       "2001    102\n",
       "2003     11\n",
       "2005    522\n",
       "2007     87\n",
       "2009    145\n",
       "2011    785\n",
       "2013     98\n",
       "2015    652\n",
       "2017    487\n",
       "2019    514\n",
       "dtype: int64"
      ]
     },
     "execution_count": 5,
     "metadata": {},
     "output_type": "execute_result"
    }
   ],
   "source": [
    "ss\n"
   ]
  },
  {
   "cell_type": "code",
   "execution_count": 6,
   "id": "9e9e0161-4969-48a2-8ccf-b558d4a45f3b",
   "metadata": {},
   "outputs": [
    {
     "data": {
      "text/plain": [
       "785"
      ]
     },
     "execution_count": 6,
     "metadata": {},
     "output_type": "execute_result"
    }
   ],
   "source": [
    "ss[2011]"
   ]
  },
  {
   "cell_type": "code",
   "execution_count": 7,
   "id": "b6d6fedb-8117-4ac7-b614-cdaa43c1b268",
   "metadata": {},
   "outputs": [
    {
     "data": {
      "text/plain": [
       "2001     204\n",
       "2003      22\n",
       "2005    1044\n",
       "2007     174\n",
       "2009     290\n",
       "2011    1570\n",
       "2013     196\n",
       "2015    1304\n",
       "2017     974\n",
       "2019    1028\n",
       "dtype: int64"
      ]
     },
     "execution_count": 7,
     "metadata": {},
     "output_type": "execute_result"
    }
   ],
   "source": [
    "ss*2"
   ]
  },
  {
   "cell_type": "code",
   "execution_count": 8,
   "id": "8d6a3b79-dcd9-4141-b3fb-5a994903d875",
   "metadata": {},
   "outputs": [
    {
     "data": {
      "text/plain": [
       "2001    False\n",
       "2003     True\n",
       "2005    False\n",
       "2007     True\n",
       "2009    False\n",
       "2011    False\n",
       "2013     True\n",
       "2015    False\n",
       "2017    False\n",
       "2019    False\n",
       "dtype: bool"
      ]
     },
     "execution_count": 8,
     "metadata": {},
     "output_type": "execute_result"
    }
   ],
   "source": [
    "ss<100"
   ]
  },
  {
   "cell_type": "code",
   "execution_count": 9,
   "id": "2302f1eb-f58d-4ac1-91ea-a30a4a99cd43",
   "metadata": {},
   "outputs": [
    {
     "data": {
      "text/plain": [
       "2001    102\n",
       "2003     11\n",
       "2005    522\n",
       "2007     87\n",
       "2009    145\n",
       "2011    785\n",
       "2013     98\n",
       "2015    652\n",
       "2017    487\n",
       "2019    514\n",
       "dtype: int64"
      ]
     },
     "execution_count": 9,
     "metadata": {},
     "output_type": "execute_result"
    }
   ],
   "source": [
    "ss\n"
   ]
  },
  {
   "cell_type": "code",
   "execution_count": 10,
   "id": "6774e119-e20d-4720-96fd-a870ba19694f",
   "metadata": {},
   "outputs": [
    {
     "data": {
      "text/plain": [
       "2001    False\n",
       "2003    False\n",
       "2005     True\n",
       "2007    False\n",
       "2009    False\n",
       "2011     True\n",
       "2013    False\n",
       "2015     True\n",
       "2017    False\n",
       "2019     True\n",
       "dtype: bool"
      ]
     },
     "execution_count": 10,
     "metadata": {},
     "output_type": "execute_result"
    }
   ],
   "source": [
    "ss>500"
   ]
  },
  {
   "cell_type": "code",
   "execution_count": 11,
   "id": "7f48d6a5-7b8a-4421-b63d-ae8af8c8672f",
   "metadata": {},
   "outputs": [
    {
     "data": {
      "text/plain": [
       "2005    522\n",
       "2011    785\n",
       "2015    652\n",
       "2019    514\n",
       "dtype: int64"
      ]
     },
     "execution_count": 11,
     "metadata": {},
     "output_type": "execute_result"
    }
   ],
   "source": [
    "ss[ss>500]"
   ]
  },
  {
   "cell_type": "code",
   "execution_count": 14,
   "id": "392579eb-d925-4da8-803a-3095f8726aa6",
   "metadata": {},
   "outputs": [],
   "source": [
    "sss=Series([1,2,3,4,5,6,7,8,9999,100])"
   ]
  },
  {
   "cell_type": "code",
   "execution_count": 16,
   "id": "d3cddc37-541a-4fff-843a-ae41eccb7b1b",
   "metadata": {
    "tags": []
   },
   "outputs": [
    {
     "data": {
      "text/plain": [
       "0      NaN\n",
       "1      NaN\n",
       "2      NaN\n",
       "3      NaN\n",
       "4      NaN\n",
       "5      NaN\n",
       "6      NaN\n",
       "7      NaN\n",
       "8      NaN\n",
       "9      NaN\n",
       "2001   NaN\n",
       "2003   NaN\n",
       "2005   NaN\n",
       "2007   NaN\n",
       "2009   NaN\n",
       "2011   NaN\n",
       "2013   NaN\n",
       "2015   NaN\n",
       "2017   NaN\n",
       "2019   NaN\n",
       "dtype: float64"
      ]
     },
     "execution_count": 16,
     "metadata": {},
     "output_type": "execute_result"
    }
   ],
   "source": [
    "ss-sss"
   ]
  },
  {
   "cell_type": "code",
   "execution_count": 17,
   "id": "64d0b6d2-1cc2-48e8-861e-5dc2b22b4b39",
   "metadata": {
    "tags": []
   },
   "outputs": [],
   "source": [
    "s1=Series([7,66,54,32,54])"
   ]
  },
  {
   "cell_type": "code",
   "execution_count": 22,
   "id": "96770f34-7924-4fae-a22d-39aa1487b622",
   "metadata": {},
   "outputs": [],
   "source": [
    "s2=Series([89,75,102,66,75],index=[5,6,4,3,3])"
   ]
  },
  {
   "cell_type": "code",
   "execution_count": 23,
   "id": "c6a695a7-b0fa-46e4-989e-c7724d2143a4",
   "metadata": {},
   "outputs": [
    {
     "data": {
      "text/plain": [
       "0     NaN\n",
       "1     NaN\n",
       "2     NaN\n",
       "3   -34.0\n",
       "3   -43.0\n",
       "4   -48.0\n",
       "5     NaN\n",
       "6     NaN\n",
       "dtype: float64"
      ]
     },
     "execution_count": 23,
     "metadata": {},
     "output_type": "execute_result"
    }
   ],
   "source": [
    "s1-s2"
   ]
  },
  {
   "cell_type": "code",
   "execution_count": 24,
   "id": "4a492848-6d8d-4474-bc6f-a6b92804588d",
   "metadata": {},
   "outputs": [
    {
     "data": {
      "text/plain": [
       "0      NaN\n",
       "1      NaN\n",
       "2      NaN\n",
       "3     98.0\n",
       "3    107.0\n",
       "4    156.0\n",
       "5      NaN\n",
       "6      NaN\n",
       "dtype: float64"
      ]
     },
     "execution_count": 24,
     "metadata": {},
     "output_type": "execute_result"
    }
   ],
   "source": [
    "s1+s2"
   ]
  },
  {
   "cell_type": "code",
   "execution_count": null,
   "id": "789c7ec1-1c9d-472b-806f-9a639e407f06",
   "metadata": {},
   "outputs": [],
   "source": []
  }
 ],
 "metadata": {
  "kernelspec": {
   "display_name": "Python 3",
   "language": "python",
   "name": "python3"
  },
  "language_info": {
   "codemirror_mode": {
    "name": "ipython",
    "version": 3
   },
   "file_extension": ".py",
   "mimetype": "text/x-python",
   "name": "python",
   "nbconvert_exporter": "python",
   "pygments_lexer": "ipython3",
   "version": "3.8.8"
  }
 },
 "nbformat": 4,
 "nbformat_minor": 5
}
