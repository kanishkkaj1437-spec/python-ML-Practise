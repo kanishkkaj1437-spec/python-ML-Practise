{
 "cells": [
  {
   "cell_type": "code",
   "execution_count": 1,
   "id": "ab64a0bb-7d61-4d39-a4fd-21b52c024473",
   "metadata": {},
   "outputs": [
    {
     "name": "stdout",
     "output_type": "stream",
     "text": [
      "Requirement already satisfied: lxml in c:\\users\\asus\\anaconda3\\lib\\site-packages (4.6.3)\n",
      "Note: you may need to restart the kernel to use updated packages.\n"
     ]
    },
    {
     "name": "stderr",
     "output_type": "stream",
     "text": [
      "\n",
      "[notice] A new release of pip available: 22.2.2 -> 22.3.1\n",
      "[notice] To update, run: python.exe -m pip install --upgrade pip\n"
     ]
    }
   ],
   "source": [
    "pip install lxml"
   ]
  },
  {
   "cell_type": "code",
   "execution_count": 2,
   "id": "cb599f51-01a1-4511-963c-bda18a0b2f91",
   "metadata": {},
   "outputs": [],
   "source": [
    "from bs4 import BeautifulSoup as bs\n",
    "with open('fl.html',encoding=\"utf8\") as html_file:\n",
    "#    html_file.write()\n",
    "    content = html_file.read()\n",
    "#html_file = open('fl.html','r')\n",
    "#content = html_file.read()"
   ]
  },
  {
   "cell_type": "code",
   "execution_count": 3,
   "id": "52b29306-540a-45d1-b57a-5220e4e0229a",
   "metadata": {},
   "outputs": [
    {
     "data": {
      "text/plain": [
       "'<!doctype html>\\n<html>\\n<head>\\n<title>My Music Store</title>  <link rel=\"stylesheet\" href=\"fl.css\">  \\n    </head>\\n<body>\\n    <nav class=\"ghj\">\\n      <ul class=\"a\" id=\"dc\">\\n        <li><a href=\"#Home\">Home</a></li>\\n        <li><a href=\"#About\">About</a></li>\\n        <li><a href=\"#News\">News</a></li>\\n        <li><a href=\"#Contacts\">Contacts</a></li>\\n        <li class=\"b\"><a href=\"#Sign-In\">Sign-In</a></li>\\n        <li class=\"b\"><a href=\"#Sign-Up\">Sign-Up</a></li>\\n        <li class=\"c\"><a href=\"javascript:void(0);\" onclick=\"ddm()\">&#9776;</a></li>\\n        </ul>\\n    </nav>\\n    \\n    <div class=\"e\" id=\"dep\">\\n    <div class=\"row\">\\n        <div class=\"col-6\">\\n        <div><h1 class=\"f\">MY MUSIC STORE/h1>\\n            <h2 class=\"f\">REGISTER YOUR TEST</h2>\\n            </div>\\n       \\n        <form>\\n        <div>\\n            <h2>USERNAME</h2>\\n            <input class=\"g\" type=\"text\" placeholder=\"username\" name=\"username\">\\n            <h2>PASSWORD</h2>\\n             <input class=\"g\" type=\"text\" placeholder=\"password\" name=\"password\">\\n            </div>\\n        \\n        </form>\\n        </div>\\n    <div class=\"col-6\" class=\"h\">   \\n        <div class=\"vc\">\\n<iframe width=\"500\" height=\"315\" src=\"https://www.youtube.com/embed/w2jPdb4kJ8M\" frameborder=\"0\" gesture=\"media\" allow=\"encrypted-media\" allowfullscreen></iframe>\\n</div>\\n        \\n        </div>\\n        \\n        \\n     </div>\\n    \\n    </div>\\n    <header>\\n    <h2 class=\"bvcx\">NOW YOU ARE TALKING</h2>\\n    </header>\\n    <div class=\"e\">\\n      <div class=\"row\">\\n         <div class=\"col-4\">\\n            <div class=\"box\">\\n               <div >\\n              <center> <img class=\"ic\" src=\"headphones.png\"></center>\\n               </div>\\n             <div class=\"lkj\">\\n                <label >\\n                WE WILL MAKE HISTORY\\n                 </label></div>\\n                <div class=\"nm\"><P>Music theory is frequently concerned with describing how musicians and composers make music, including tuning systems and composition methods among other topics. Because of the ever-expanding conception of what constitutes music (see Definition of music), a more inclusive definition could be that music theory is the consideration of any sonic phenomena, including silence, as they relate to music</P></div>\\n            </div>\\n         </div>\\n       <div class=\"col-4\">\\n          <div class=\"box\">\\n                <div >\\n              <center> <img class=\"ic\" src=\"headphones.png\"></center>\\n               </div>\\n           <div class=\"lkj\">\\n                <label >\\n                NOW IT\\'S TAKING SHAPE\\n                 </label></div>\\n              <div class=\"nm\"><P>In modern academia, music theory is a subfield of musicology, the wider study of musical cultures and history. Etymologically, music theory is an act of contemplation of music, from the Greek θεωρία, a looking at, viewing, contemplation, speculation, theory, also a sight, a spectacle.[5] As such, it is often concerned with abstract musical aspects such as tuning and tonal systems.</P></div>\\n           </div>\\n          </div>\\n        <div class=\"col-4\">\\n          <div class=\"box\">\\n               <div >\\n              <center> <img class=\"ic\" src=\"headphones.png\"></center>\\n               </div>\\n               <div class=\"lkj\">\\n                <label >\\n                THAT\\'S WHAT I WANTED\\n                 </label></div>\\n              <div class=\"nm\"><P> A person who researches, teaches, or writes articles about music theory is a music theorist. University study, typically to the M.A. or Ph.D level, is required to teach as a tenure-track music theorist in a US or Canadian university. Methods of analysis include mathematics, graphic analysis, and especially analysis enabled by Western music notation. Comparative, descriptive, statistical, and other methods are also used. </P></div>\\n            \\n            </div>\\n          </div>\\n        </div>\\n    <div class=\"row\">\\n        <div class=\"col-12\">\\n        <button CLASS=\"lmnb\">DO SOMETHING</button>\\n        </div>\\n        </div>\\n    </div>\\n    <br>\\n    <hr>\\n    <div class=\"e\">\\n    <div class=\"row\">\\n        <div class=\"col-7\">\\n        <article>\\n            <p> A person who\\nresearches, teaches, or writes articles about music theory is a music theorist. University study, typically to the M.A. or Ph.D level, is required to teach as a tenure-track music theorist in a US or Canadian university. Methods of analysis include mathematics, graphic analysis, and especially analysis enabled by Western music notation. Comparative, descriptive, statistical, and other methods are also used.\\n            </p>\\n            </article>\\n        </div>\\n        <div class=\"col-5\">\\n        <div class=\"kurt\">\\n            <img src=\"090218-kurt-cobain-1.jpg\">\\n            </div>\\n        </div>\\n        </div>\\n    </div>\\n    \\n <footer class=\"ft\">\\n    <div class=\"row\">\\n     <div class=\"col-3\">\\n        <h1>Company</h1>\\n         <ul>\\n         <li >About</li>\\n             <li >Blogs</li>\\n             <li >Careers</li>\\n         </ul>\\n        </div>\\n         <div class=\"col-3\">\\n        <h1>Products</h1>\\n         <ul>\\n         <li >Sound Producing</li>\\n             <li >Sound Controlling</li>\\n             <li >Other</li>\\n         </ul>\\n        </div>\\n         <div class=\"col-3\">\\n        <h1>Learn More</h1>\\n         <ul>\\n         <li >Music Theory</li>\\n             <li >Time Lapse</li>\\n             <li >Other Concepts</li>\\n         </ul>\\n        </div>\\n         <div class=\"col-3\">\\n        <h1>Support</h1>\\n         <ul>\\n         <li >Help</li>\\n             <li >QA</li>\\n             <li >Contact</li>\\n         </ul>\\n        </div>\\n     </div>\\n    \\n    </footer>   \\n    \\n    \\n    \\n    \\n    \\n    \\n    \\n    \\n    \\n    <script>\\n    function ddm() {\\n        var p = document.getElementById(\"dc\");\\n        if (p.className === \"a\") {\\n            p.className +=\" r\";\\n            }\\n        else{\\n            p.className=\"a\";\\n        }\\n    }\\n    \\n    </script>\\n    \\n    </body>\\n\\n\\n</html>'"
      ]
     },
     "execution_count": 3,
     "metadata": {},
     "output_type": "execute_result"
    }
   ],
   "source": [
    "content"
   ]
  },
  {
   "cell_type": "code",
   "execution_count": 4,
   "id": "8c3ba3ad-2ce9-4caf-ae14-da2a7ffdc681",
   "metadata": {},
   "outputs": [],
   "source": [
    "soup = bs(content,'lxml')\n",
    "cont=soup.prettify()"
   ]
  },
  {
   "cell_type": "code",
   "execution_count": 5,
   "id": "0c4a17a7-fbce-47b0-bd6c-64509c1e4980",
   "metadata": {},
   "outputs": [
    {
     "data": {
      "text/plain": [
       "[<ul class=\"a\" id=\"dc\">\n",
       " <li><a href=\"#Home\">Home</a></li>\n",
       " <li><a href=\"#About\">About</a></li>\n",
       " <li><a href=\"#News\">News</a></li>\n",
       " <li><a href=\"#Contacts\">Contacts</a></li>\n",
       " <li class=\"b\"><a href=\"#Sign-In\">Sign-In</a></li>\n",
       " <li class=\"b\"><a href=\"#Sign-Up\">Sign-Up</a></li>\n",
       " <li class=\"c\"><a href=\"javascript:void(0);\" onclick=\"ddm()\">☰</a></li>\n",
       " </ul>,\n",
       " <ul>\n",
       " <li>About</li>\n",
       " <li>Blogs</li>\n",
       " <li>Careers</li>\n",
       " </ul>,\n",
       " <ul>\n",
       " <li>Sound Producing</li>\n",
       " <li>Sound Controlling</li>\n",
       " <li>Other</li>\n",
       " </ul>,\n",
       " <ul>\n",
       " <li>Music Theory</li>\n",
       " <li>Time Lapse</li>\n",
       " <li>Other Concepts</li>\n",
       " </ul>,\n",
       " <ul>\n",
       " <li>Help</li>\n",
       " <li>QA</li>\n",
       " <li>Contact</li>\n",
       " </ul>]"
      ]
     },
     "execution_count": 5,
     "metadata": {},
     "output_type": "execute_result"
    }
   ],
   "source": [
    "tags = soup.find_all('ul')\n",
    "tags"
   ]
  },
  {
   "cell_type": "code",
   "execution_count": 6,
   "id": "a55fff98-8d50-43aa-89ee-a9b43e29626b",
   "metadata": {},
   "outputs": [
    {
     "data": {
      "text/plain": [
       "[<div class=\"nm\"><p>Music theory is frequently concerned with describing how musicians and composers make music, including tuning systems and composition methods among other topics. Because of the ever-expanding conception of what constitutes music (see Definition of music), a more inclusive definition could be that music theory is the consideration of any sonic phenomena, including silence, as they relate to music</p></div>,\n",
       " <div class=\"nm\"><p>In modern academia, music theory is a subfield of musicology, the wider study of musical cultures and history. Etymologically, music theory is an act of contemplation of music, from the Greek θεωρία, a looking at, viewing, contemplation, speculation, theory, also a sight, a spectacle.[5] As such, it is often concerned with abstract musical aspects such as tuning and tonal systems.</p></div>,\n",
       " <div class=\"nm\"><p> A person who researches, teaches, or writes articles about music theory is a music theorist. University study, typically to the M.A. or Ph.D level, is required to teach as a tenure-track music theorist in a US or Canadian university. Methods of analysis include mathematics, graphic analysis, and especially analysis enabled by Western music notation. Comparative, descriptive, statistical, and other methods are also used. </p></div>]"
      ]
     },
     "execution_count": 6,
     "metadata": {},
     "output_type": "execute_result"
    }
   ],
   "source": [
    "ku = soup.find_all(class_ = \"nm\")\n",
    "ku"
   ]
  },
  {
   "cell_type": "code",
   "execution_count": 7,
   "id": "cb88e9d2-f47c-458c-837d-8547bb0f0189",
   "metadata": {},
   "outputs": [
    {
     "name": "stdout",
     "output_type": "stream",
     "text": [
      "Music theory is frequently concerned with describing how musicians and composers make music, including tuning systems and composition methods among other topics. Because of the ever-expanding conception of what constitutes music (see Definition of music), a more inclusive definition could be that music theory is the consideration of any sonic phenomena, including silence, as they relate to music\n",
      "In modern academia, music theory is a subfield of musicology, the wider study of musical cultures and history. Etymologically, music theory is an act of contemplation of music, from the Greek θεωρία, a looking at, viewing, contemplation, speculation, theory, also a sight, a spectacle.[5] As such, it is often concerned with abstract musical aspects such as tuning and tonal systems.\n",
      " A person who researches, teaches, or writes articles about music theory is a music theorist. University study, typically to the M.A. or Ph.D level, is required to teach as a tenure-track music theorist in a US or Canadian university. Methods of analysis include mathematics, graphic analysis, and especially analysis enabled by Western music notation. Comparative, descriptive, statistical, and other methods are also used. \n"
     ]
    }
   ],
   "source": [
    "for k in ku:\n",
    "    print(k.text)"
   ]
  },
  {
   "cell_type": "code",
   "execution_count": 8,
   "id": "452925aa-4644-4501-aafc-467a89f6f68d",
   "metadata": {},
   "outputs": [
    {
     "name": "stdout",
     "output_type": "stream",
     "text": [
      "<p>Music theory is frequently concerned with describing how musicians and composers make music, including tuning systems and composition methods among other topics. Because of the ever-expanding conception of what constitutes music (see Definition of music), a more inclusive definition could be that music theory is the consideration of any sonic phenomena, including silence, as they relate to music</p>\n",
      "<p>In modern academia, music theory is a subfield of musicology, the wider study of musical cultures and history. Etymologically, music theory is an act of contemplation of music, from the Greek θεωρία, a looking at, viewing, contemplation, speculation, theory, also a sight, a spectacle.[5] As such, it is often concerned with abstract musical aspects such as tuning and tonal systems.</p>\n",
      "<p> A person who researches, teaches, or writes articles about music theory is a music theorist. University study, typically to the M.A. or Ph.D level, is required to teach as a tenure-track music theorist in a US or Canadian university. Methods of analysis include mathematics, graphic analysis, and especially analysis enabled by Western music notation. Comparative, descriptive, statistical, and other methods are also used. </p>\n",
      "Music theory is frequently concerned with describing how musicians and composers make music, including tuning systems and composition methods among other topics. Because of the ever-expanding conception of what constitutes music (see Definition of music), a more inclusive definition could be that music theory is the consideration of any sonic phenomena, including silence, as they relate to music\n",
      "In modern academia, music theory is a subfield of musicology, the wider study of musical cultures and history. Etymologically, music theory is an act of contemplation of music, from the Greek θεωρία, a looking at, viewing, contemplation, speculation, theory, also a sight, a spectacle.[5] As such, it is often concerned with abstract musical aspects such as tuning and tonal systems.\n",
      " A person who researches, teaches, or writes articles about music theory is a music theorist. University study, typically to the M.A. or Ph.D level, is required to teach as a tenure-track music theorist in a US or Canadian university. Methods of analysis include mathematics, graphic analysis, and especially analysis enabled by Western music notation. Comparative, descriptive, statistical, and other methods are also used. \n"
     ]
    }
   ],
   "source": [
    "for k in ku:\n",
    "    kk = k.find(\"p\")\n",
    "    print(kk)\n",
    "    \n",
    "for k in ku:\n",
    "    p = k.p.text\n",
    "    print(p)\n",
    "   "
   ]
  },
  {
   "cell_type": "code",
   "execution_count": null,
   "id": "9be32ca0-b07a-46f4-81bb-ad499ec13d9f",
   "metadata": {},
   "outputs": [],
   "source": []
  },
  {
   "cell_type": "code",
   "execution_count": null,
   "id": "fbc031f7-251f-42fd-97fa-ff4cbc51b07f",
   "metadata": {},
   "outputs": [],
   "source": []
  },
  {
   "cell_type": "code",
   "execution_count": null,
   "id": "3501501e-59cd-4f01-9fd0-acae45e04231",
   "metadata": {},
   "outputs": [],
   "source": []
  },
  {
   "cell_type": "code",
   "execution_count": null,
   "id": "c0a1fedb-9f89-466d-889e-dae0d8165ebe",
   "metadata": {},
   "outputs": [],
   "source": []
  },
  {
   "cell_type": "code",
   "execution_count": null,
   "id": "6fbd53f0-e73e-499c-a55e-a1ecea3fbbf6",
   "metadata": {},
   "outputs": [],
   "source": []
  },
  {
   "cell_type": "code",
   "execution_count": null,
   "id": "7058be72-7580-49d6-875c-b65c28b54a0f",
   "metadata": {},
   "outputs": [],
   "source": []
  },
  {
   "cell_type": "code",
   "execution_count": 9,
   "id": "46399011-af19-4dc1-813f-14c57c33eb57",
   "metadata": {},
   "outputs": [],
   "source": [
    "import requests"
   ]
  },
  {
   "cell_type": "code",
   "execution_count": 10,
   "id": "eba3df5b-7309-4fa6-ad6c-9e8810986286",
   "metadata": {},
   "outputs": [],
   "source": [
    "r = requests.get(\"https://twitter.com/LandsharkRides\")\n",
    "soupp = bs(r.content)\n",
    "contentss = soupp.prettify()\n",
    "#print(contentss)"
   ]
  },
  {
   "cell_type": "code",
   "execution_count": 11,
   "id": "ddddc47b-6e3a-42f9-9b04-dca219592adb",
   "metadata": {},
   "outputs": [],
   "source": [
    "#contentss"
   ]
  },
  {
   "cell_type": "code",
   "execution_count": 12,
   "id": "37fcc5ef-6d4a-42bf-af7f-19491d372527",
   "metadata": {},
   "outputs": [
    {
     "name": "stdout",
     "output_type": "stream",
     "text": [
      "<Response [200]>\n"
     ]
    }
   ],
   "source": [
    "rr = requests.get('https://www.timesjobs.com/candidate/job-search.html?searchType=personalizedSearch&from=submit&txtKeywords=Python&txtLocation=')\n",
    "print(rr)"
   ]
  },
  {
   "cell_type": "code",
   "execution_count": 13,
   "id": "4e08028c-ea57-4d89-a7f8-8d769938767b",
   "metadata": {},
   "outputs": [],
   "source": [
    "sou = bs(rr.text,'lxml')\n",
    "cont = soup.prettify()\n"
   ]
  },
  {
   "cell_type": "code",
   "execution_count": 14,
   "id": "a30744f1-0db6-401b-b375-9c7b6190c5f5",
   "metadata": {},
   "outputs": [],
   "source": [
    "listts = sou.find_all(class_ = \"clearfix job-bx wht-shd-bx\")"
   ]
  },
  {
   "cell_type": "code",
   "execution_count": null,
   "id": "e652f603-4429-44bf-8721-e1985935f97b",
   "metadata": {},
   "outputs": [],
   "source": []
  },
  {
   "cell_type": "code",
   "execution_count": 15,
   "id": "2ea49ba1-6459-447f-a9e3-8906d27d859d",
   "metadata": {},
   "outputs": [
    {
     "name": "stdout",
     "output_type": "stream",
     "text": [
      "\n",
      "        company_name = SuryaInformaticsSolutionsPvt.Ltd.\n",
      "        skills = python,webtechnologies,linux,mobile,mysql,angularjs,javascript\n",
      "        published_date = Posted few days ago\n",
      "        \n",
      "\n",
      "        company_name = IvanInfotechPvt.Ltd.\n",
      "        skills = rest,python,security,debugging\n",
      "        published_date = Posted few days ago\n",
      "        \n",
      "\n",
      "        company_name = TandAHRSolutions\n",
      "        skills = python,git,django\n",
      "        published_date = Posted few days ago\n",
      "        \n",
      "\n",
      "        company_name = DatagridSolutions\n",
      "        skills = python,database,django,mysql,api\n",
      "        published_date = Posted few days ago\n",
      "        \n",
      "\n",
      "        company_name = eastindiasecuritiesltd.\n",
      "        skills = python,hadoop,machinelearning\n",
      "        published_date = Posted few days ago\n",
      "        \n",
      "\n",
      "        company_name = appypie\n",
      "        skills = python,django,html5,javascript\n",
      "        published_date = Posted few days ago\n",
      "        \n",
      "\n",
      "        company_name = JobsLoConsultants\n",
      "        skills = python,linux,windows,sql\n",
      "        published_date = Posted few days ago\n",
      "        \n",
      "\n",
      "        company_name = arttechnologyandsoftwareindiapvtltd\n",
      "        skills = rest,python,database,django,api\n",
      "        published_date = Posted few days ago\n",
      "        \n",
      "\n",
      "        company_name = sjainventures\n",
      "        skills = python,webdeveloper,webservices\n",
      "        published_date = Posted few days ago\n",
      "        \n",
      "\n",
      "        company_name = APPLYCUPHIRINGSOLUTIONSLLP\n",
      "        skills = python,Django,ObjectRelationalMapper\n",
      "        published_date = Posted few days ago\n",
      "        \n",
      "\n",
      "        company_name = TandAHRSolutions\n",
      "        skills = Python,Django,Flask\n",
      "        published_date = Posted few days ago\n",
      "        \n",
      "\n",
      "        company_name = systango\n",
      "        skills = python,django,javascript,webprogramming\n",
      "        published_date = Posted few days ago\n",
      "        \n",
      "\n",
      "        company_name = onsinteractivesolutionspvtltd\n",
      "        skills = python,django,html5,javascript\n",
      "        published_date = Posted few days ago\n",
      "        \n",
      "\n",
      "        company_name = CONNECTING2WORK\n",
      "        skills = python,storage,django,testingtools,debugging\n",
      "        published_date = Posted few days ago\n",
      "        \n",
      "\n",
      "        company_name = APPLYCUPHIRINGSOLUTIONSLLP\n",
      "        skills = python,webtechnologies,webtechnologies\n",
      "        published_date = Posted few days ago\n",
      "        \n",
      "\n",
      "        company_name = APPLYCUPHIRINGSOLUTIONSLLP\n",
      "        skills = python,django,html5,javascript\n",
      "        published_date = Posted few days ago\n",
      "        \n",
      "\n",
      "        company_name = APPLYCUPHIRINGSOLUTIONSLLP\n",
      "        skills = python,django,html5,javascript\n",
      "        published_date = Posted few days ago\n",
      "        \n",
      "\n",
      "        company_name = DREAMAJAXTECHNOLOGIES\n",
      "        skills = python,django,api,sql,nosql\n",
      "        published_date = Posted few days ago\n",
      "        \n"
     ]
    }
   ],
   "source": [
    "\n",
    "for listt  in listts:\n",
    "    published_date = listt.find('span',class_=\"sim-posted\").span.text\n",
    "    if 'few' in published_date:\n",
    "        company_name = listt.find('h3',class_ = \"joblist-comp-name\").text.replace('\\r\\n',' ').replace(' ','')\n",
    "        skills = listt.find('span',class_ = \"srp-skills\").text.replace('\\n','').replace('\\r','').replace(' ','')\n",
    "    \n",
    "        print(f'''\n",
    "        company_name = {company_name}\n",
    "        skills = {skills}\n",
    "        published_date = {published_date}\n",
    "        ''')\n"
   ]
  },
  {
   "cell_type": "code",
   "execution_count": null,
   "id": "61d56ba3-0d80-47d2-8ed3-e074889bdf64",
   "metadata": {},
   "outputs": [],
   "source": []
  },
  {
   "cell_type": "code",
   "execution_count": null,
   "id": "ae0e73e1-b247-4d44-aa05-18f31197ec78",
   "metadata": {},
   "outputs": [],
   "source": []
  }
 ],
 "metadata": {
  "kernelspec": {
   "display_name": "Python 3",
   "language": "python",
   "name": "python3"
  },
  "language_info": {
   "codemirror_mode": {
    "name": "ipython",
    "version": 3
   },
   "file_extension": ".py",
   "mimetype": "text/x-python",
   "name": "python",
   "nbconvert_exporter": "python",
   "pygments_lexer": "ipython3",
   "version": "3.8.8"
  }
 },
 "nbformat": 4,
 "nbformat_minor": 5
}
