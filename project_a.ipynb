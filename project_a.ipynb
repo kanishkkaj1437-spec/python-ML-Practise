{
 "cells": [
  {
   "cell_type": "code",
   "execution_count": 57,
   "id": "4fe247fd-d6e7-4025-a86e-b0aa62a2eb4f",
   "metadata": {},
   "outputs": [],
   "source": [
    "import requests\n",
    "from bs4 import BeautifulSoup as bs\n",
    "import pandas as pd\n",
    "import time\n",
    "import csv"
   ]
  },
  {
   "cell_type": "code",
   "execution_count": 31,
   "id": "b81d08d0-5958-47da-9e2d-af93104502e8",
   "metadata": {},
   "outputs": [],
   "source": [
    "url = \"https://www.linkedin.com/jobs/search?keywords=Data%20Analysis&location=Los%20Angeles%2C%20California%2C%20United%20States&geoId=102448103&trk=public_jobs_jobs-search-bar_search-submit&position=1&pageNum=0\"\n",
    "\n",
    "r = requests.get(url)\n",
    "soup = bs(r.text,'html.parser')\n",
    "#print(soup.prettify())\n",
    "#r.status_code"
   ]
  },
  {
   "cell_type": "code",
   "execution_count": 90,
   "id": "52532350-938d-4565-98db-3f386c6beda1",
   "metadata": {},
   "outputs": [
    {
     "data": {
      "text/plain": [
       "67"
      ]
     },
     "execution_count": 90,
     "metadata": {},
     "output_type": "execute_result"
    }
   ],
   "source": [
    "file = open('Data_analysis_jobs_1.csv','a')\n",
    "writer = csv.writer(file)\n",
    "writer.writerow(['Job_Title','Company_Name','Job_location','job_benefit','Job_time','Job_link'])"
   ]
  },
  {
   "cell_type": "code",
   "execution_count": 75,
   "id": "912f68be-1aff-49db-a471-339458e1dd40",
   "metadata": {},
   "outputs": [],
   "source": [
    "tags = soup.find_all(\"div\",class_=\"base-search-card__info\")\n"
   ]
  },
  {
   "cell_type": "code",
   "execution_count": 91,
   "id": "222d09c4-b1b0-439c-8e90-d6c209d6dc16",
   "metadata": {},
   "outputs": [
    {
     "name": "stdout",
     "output_type": "stream",
     "text": [
      "Live Service Analyst, Games\n",
      "Netflix\n",
      "https://www.linkedin.com/company/netflix?trk=public_jobs_jserp-result_job-search-card-subtitle\n",
      "Los Angeles, CA\n",
      "Actively Hiring\n",
      "2 weeks ago\n"
     ]
    }
   ],
   "source": [
    "for tag in tags:\n",
    "    job_title = tag.find(\"h3\",class_=\"base-search-card__title\").text.strip()\n",
    "    #print(head)\n",
    "    company_title = tag.find(\"h4\",class_=\"base-search-card__subtitle\").text.strip()\n",
    "    #print(tail)\n",
    "    job_links = tag.find(\"h4\",class_=\"base-search-card__subtitle\").find(\"a\")\n",
    "    job_link = job_links[\"href\"]\n",
    "    job_location = tag.find(\"span\",class_=\"job-search-card__location\").text.strip()\n",
    "    try:\n",
    "        job_benefits = tag.find(\"span\",class_=\"result-benefits__text\").text.strip()\n",
    "    except:\n",
    "        job_benefits = \"\"\n",
    "    try:\n",
    "        job_time = tag.find(\"time\",class_=\"job-search-card__listdate\").text.strip()\n",
    "    except:\n",
    "        job_time = \"\"\n",
    "    writer.writerow([\n",
    "    job_title,\n",
    "    company_title,\n",
    "    job_location,\n",
    "    job_benefits,\n",
    "    job_time,\n",
    "    job_link    \n",
    "    ])\n",
    "\n",
    "print(job_title)\n",
    "print(company_title)\n",
    "print(job_link)\n",
    "print(job_location)\n",
    "print(job_benefits)\n",
    "print(job_time)"
   ]
  },
  {
   "cell_type": "code",
   "execution_count": 92,
   "id": "361702d7-1ee2-4c69-9e92-4dd148a90e0d",
   "metadata": {},
   "outputs": [],
   "source": [
    "file.close()"
   ]
  },
  {
   "cell_type": "code",
   "execution_count": 42,
   "id": "2472245d-6fd0-474f-8ef8-5ba9d5158842",
   "metadata": {},
   "outputs": [
    {
     "name": "stdout",
     "output_type": "stream",
     "text": [
      "Data Analyst, Marketing & Comms Strategy, Planning & Analysis\n",
      "Associate, Content Analytics & Operations\n",
      "Research & Data Analyst\n",
      "Junior Data Analyst\n",
      "Data Analyst\n",
      "Associate, Marketing Business Operations\n",
      "Data Analyst/Scientist Internship\n",
      "Data Analyst, Performance Marketing\n",
      "Senior Analyst, Advanced Analytics, Peacock\n",
      "Associate, FP&A\n",
      "Junior Health Analytics Data Scientist\n",
      "Data Analyst\n",
      "Data Analyst\n",
      "Data Analyst, US Region\n",
      "Business Intelligence Analyst\n",
      "Business Analyst – Real Estate Data Analytics – up to $200,000 Salary + Bonus\n",
      "Junior Data Strategist\n",
      "Junior Data Analyst\n",
      "COVID Data Analyst\n",
      "Data Analyst, TikTok-US-Data Security\n",
      "Data Analyst\n",
      "Analytics Internship\n",
      "Associate, FAN Studio FP&A\n",
      "Analyst, Enterprise Analytics\n",
      "Live Service Analyst, Games\n"
     ]
    }
   ],
   "source": [
    "i=0\n",
    "for he in head:\n",
    "    print(he.text.strip())\n",
    "    \n",
    "    "
   ]
  },
  {
   "cell_type": "code",
   "execution_count": 83,
   "id": "fc314561-933a-4b1f-8b53-8f65d6d01854",
   "metadata": {},
   "outputs": [],
   "source": [
    "uurl = \"https://www.linkedin.com/jobs/search?keywords=project%20manager&location=india&geoId=&trk=public_jobs_jobs-search-bar_search-submit&position=1&pageNum=0\"\n"
   ]
  },
  {
   "cell_type": "code",
   "execution_count": 84,
   "id": "97ade209-f0cd-4af6-aa8d-0178c29396af",
   "metadata": {},
   "outputs": [],
   "source": [
    "rr = requests.get(uurl)\n",
    "soupp = bs(rr.text,'html.parser')"
   ]
  },
  {
   "cell_type": "code",
   "execution_count": 93,
   "id": "4233b951-4324-4d92-acc8-9bb72f46bac0",
   "metadata": {},
   "outputs": [],
   "source": [
    "tagss = soupp.find_all(\"div\",class_=\"base-search-card__info\")"
   ]
  },
  {
   "cell_type": "code",
   "execution_count": 95,
   "id": "295a160c-a914-4a9c-b1ec-5db9296fd867",
   "metadata": {},
   "outputs": [
    {
     "data": {
      "text/plain": [
       "67"
      ]
     },
     "execution_count": 95,
     "metadata": {},
     "output_type": "execute_result"
    }
   ],
   "source": [
    "file = open('project_manager_jobs_1.csv','a')\n",
    "wwriter = csv.writer(file)\n",
    "wwriter.writerow(['Job_Title','Company_Name','Job_location','job_benefit','Job_time','Job_link'])"
   ]
  },
  {
   "cell_type": "code",
   "execution_count": 96,
   "id": "330c07e8-2b2e-4224-9a10-4426416c5087",
   "metadata": {},
   "outputs": [],
   "source": [
    "for ta in tagss:\n",
    "    job_title = ta.find(\"h3\",class_=\"base-search-card__title\").text.strip()\n",
    "    #print(head)\n",
    "    company_title = ta.find(\"h4\",class_=\"base-search-card__subtitle\").text.strip()\n",
    "    #print(tail)\n",
    "    job_links = ta.find(\"h4\",class_=\"base-search-card__subtitle\").find(\"a\")\n",
    "    job_link = job_links[\"href\"]\n",
    "    job_location = ta.find(\"span\",class_=\"job-search-card__location\").text.strip()\n",
    "    try:\n",
    "        job_benefits = ta.find(\"span\",class_=\"result-benefits__text\").text.strip()\n",
    "    except:\n",
    "        job_benefits = \"\"\n",
    "    try:\n",
    "        job_time = ta.find(\"time\",class_=\"job-search-card__listdate\").text.strip()\n",
    "    except:\n",
    "        job_time = \"\"\n",
    "    wwriter.writerow([\n",
    "    job_title,\n",
    "    company_title,\n",
    "    job_location,\n",
    "    job_benefits,\n",
    "    job_time,\n",
    "    job_link    \n",
    "    ])    \n",
    "    "
   ]
  },
  {
   "cell_type": "code",
   "execution_count": 97,
   "id": "ca07c584-969d-417b-a0c7-1b53e3ad194a",
   "metadata": {},
   "outputs": [],
   "source": [
    "file.close()"
   ]
  },
  {
   "cell_type": "code",
   "execution_count": 116,
   "id": "e884936d-6149-4b1e-8791-996426e95fe4",
   "metadata": {},
   "outputs": [
    {
     "data": {
      "text/plain": [
       "67"
      ]
     },
     "execution_count": 116,
     "metadata": {},
     "output_type": "execute_result"
    }
   ],
   "source": [
    "file = open('Machine_learning_jobs_1.csv','a')\n",
    "wwriter = csv.writer(file)\n",
    "wwriter.writerow(['Job_Title','Company_Name','Job_location','job_benefit','Job_time','Job_link'])"
   ]
  },
  {
   "cell_type": "code",
   "execution_count": 98,
   "id": "12808378-05eb-4fcf-855b-59134dacbbb6",
   "metadata": {},
   "outputs": [],
   "source": [
    "utf= \"https://www.linkedin.com/jobs/search?keywords=Machine%20Learning&location=india&geoId=&trk=public_jobs_jobs-search-bar_search-submit&position=1&pageNum=0\""
   ]
  },
  {
   "cell_type": "code",
   "execution_count": 99,
   "id": "4d05fa83-10d5-4400-8511-50781432e223",
   "metadata": {},
   "outputs": [],
   "source": [
    "rrr = requests.get(utf)\n",
    "souppp = bs(rrr.text,'html.parser')"
   ]
  },
  {
   "cell_type": "code",
   "execution_count": 100,
   "id": "bbc8cbbe-9666-4db7-99fa-9d6e4beccd53",
   "metadata": {},
   "outputs": [],
   "source": [
    "tagsss = souppp.find_all(\"div\",class_=\"base-search-card__info\")"
   ]
  },
  {
   "cell_type": "code",
   "execution_count": 117,
   "id": "7733e340-28cf-4735-8a62-c4b3e1903b10",
   "metadata": {},
   "outputs": [],
   "source": [
    "for taf in tagsss:\n",
    "    job_title = taf.find(\"h3\",class_=\"base-search-card__title\").text.strip()\n",
    "    #print(head)\n",
    "    company_title = taf.find(\"h4\",class_=\"base-search-card__subtitle\").text.strip()\n",
    "    #print(tail)\n",
    "    job_links = taf.find(\"h4\",class_=\"base-search-card__subtitle\").find(\"a\")\n",
    "    job_link = job_links[\"href\"]\n",
    "    job_location = taf.find(\"span\",class_=\"job-search-card__location\").text.strip()\n",
    "    try:\n",
    "        job_benefits = taf.find(\"span\",class_=\"result-benefits__text\").text.strip()\n",
    "    except:\n",
    "        job_benefits = \"\"\n",
    "    try:\n",
    "        job_time = taf.find(\"time\",class_=\"job-search-card__listdate\").text.strip()\n",
    "    except:\n",
    "        job_time = \"\"\n",
    "    wwriter.writerow([\n",
    "    job_title,\n",
    "    company_title,\n",
    "    job_location,\n",
    "    job_benefits,\n",
    "    job_time,\n",
    "    job_link    \n",
    "    ])"
   ]
  },
  {
   "cell_type": "code",
   "execution_count": 119,
   "id": "b412d7c9-545c-4bc5-abdf-00425048c959",
   "metadata": {},
   "outputs": [],
   "source": [
    "file.close()"
   ]
  },
  {
   "cell_type": "code",
   "execution_count": 120,
   "id": "3e3c42c5-d8aa-49b9-86d3-6ef06369c248",
   "metadata": {},
   "outputs": [
    {
     "data": {
      "text/plain": [
       "67"
      ]
     },
     "execution_count": 120,
     "metadata": {},
     "output_type": "execute_result"
    }
   ],
   "source": [
    "file = open('Data_Engineer_jobs_1.csv','a')\n",
    "wwriter = csv.writer(file)\n",
    "wwriter.writerow(['Job_Title','Company_Name','Job_location','job_benefit','Job_time','Job_link'])"
   ]
  },
  {
   "cell_type": "code",
   "execution_count": 113,
   "id": "967a9db4-6d06-425c-b5f1-2c6de83588e0",
   "metadata": {},
   "outputs": [],
   "source": [
    "utff= \"https://in.linkedin.com/jobs-guest/jobs/api/seeMoreJobPostings/search?keywords=Data%20Engineer&location=&geoId=&trk=homepage-jobseeker_jobs-search-bar_search-submit&position=1&pageNum=0&start=25\"\n",
    "rrrr = requests.get(utff)\n",
    "so = bs(rrrr.text,'html.parser')"
   ]
  },
  {
   "cell_type": "code",
   "execution_count": 114,
   "id": "d8864d7f-17be-478f-bc08-91923062474d",
   "metadata": {},
   "outputs": [],
   "source": [
    "tables = so.find_all(\"div\",class_=\"base-search-card__info\")\n"
   ]
  },
  {
   "cell_type": "code",
   "execution_count": 121,
   "id": "ef80c50c-6294-439f-83bd-9b9d167a8f5a",
   "metadata": {},
   "outputs": [],
   "source": [
    "for table in tables:\n",
    "    job_title = table.find(\"h3\",class_=\"base-search-card__title\").text.strip()\n",
    "    #print(head)\n",
    "    company_title = table.find(\"h4\",class_=\"base-search-card__subtitle\").text.strip()\n",
    "    #print(tail)\n",
    "    job_links = table.find(\"h4\",class_=\"base-search-card__subtitle\").find(\"a\")\n",
    "    job_link = job_links[\"href\"]\n",
    "    job_location = table.find(\"span\",class_=\"job-search-card__location\").text.strip()\n",
    "    try:\n",
    "        job_benefits = table.find(\"span\",class_=\"result-benefits__text\").text.strip()\n",
    "    except:\n",
    "        job_benefits = \"\"\n",
    "    try:\n",
    "        job_time = table.find(\"time\",class_=\"job-search-card__listdate\").text.strip()\n",
    "    except:\n",
    "        job_time = \"\"\n",
    "    wwriter.writerow([\n",
    "    job_title,\n",
    "    company_title,\n",
    "    job_location,\n",
    "    job_benefits,\n",
    "    job_time,\n",
    "    job_link    \n",
    "    ])"
   ]
  },
  {
   "cell_type": "code",
   "execution_count": 122,
   "id": "09f7fa34-c02d-4d16-b25f-a24a882b974e",
   "metadata": {},
   "outputs": [],
   "source": [
    "file.close()"
   ]
  },
  {
   "cell_type": "code",
   "execution_count": 123,
   "id": "66820154-0fb4-4ca4-8707-095ff7c940a9",
   "metadata": {},
   "outputs": [
    {
     "data": {
      "text/html": [
       "<div>\n",
       "<style scoped>\n",
       "    .dataframe tbody tr th:only-of-type {\n",
       "        vertical-align: middle;\n",
       "    }\n",
       "\n",
       "    .dataframe tbody tr th {\n",
       "        vertical-align: top;\n",
       "    }\n",
       "\n",
       "    .dataframe thead th {\n",
       "        text-align: right;\n",
       "    }\n",
       "</style>\n",
       "<table border=\"1\" class=\"dataframe\">\n",
       "  <thead>\n",
       "    <tr style=\"text-align: right;\">\n",
       "      <th></th>\n",
       "      <th>Job_Title</th>\n",
       "      <th>Company_Name</th>\n",
       "      <th>Job_location</th>\n",
       "      <th>job_benefit</th>\n",
       "      <th>Job_time</th>\n",
       "      <th>Job_link</th>\n",
       "    </tr>\n",
       "  </thead>\n",
       "  <tbody>\n",
       "    <tr>\n",
       "      <th>0</th>\n",
       "      <td>Data Analyst, Marketing &amp; Comms Strategy, Plan...</td>\n",
       "      <td>Netflix</td>\n",
       "      <td>Los Angeles, CA</td>\n",
       "      <td>Actively Hiring</td>\n",
       "      <td>2 weeks ago</td>\n",
       "      <td>https://www.linkedin.com/company/netflix?trk=p...</td>\n",
       "    </tr>\n",
       "    <tr>\n",
       "      <th>1</th>\n",
       "      <td>Associate, Content Analytics &amp; Operations</td>\n",
       "      <td>Netflix</td>\n",
       "      <td>Los Angeles, CA</td>\n",
       "      <td>Actively Hiring</td>\n",
       "      <td>2 weeks ago</td>\n",
       "      <td>https://www.linkedin.com/company/netflix?trk=p...</td>\n",
       "    </tr>\n",
       "    <tr>\n",
       "      <th>2</th>\n",
       "      <td>Research &amp; Data Analyst</td>\n",
       "      <td>Hello Sunshine</td>\n",
       "      <td>Los Angeles, CA</td>\n",
       "      <td>NaN</td>\n",
       "      <td>2 months ago</td>\n",
       "      <td>https://www.linkedin.com/company/hello-sunshin...</td>\n",
       "    </tr>\n",
       "    <tr>\n",
       "      <th>3</th>\n",
       "      <td>Junior Data Analyst</td>\n",
       "      <td>EDGE10 Group</td>\n",
       "      <td>Los Angeles, CA</td>\n",
       "      <td>NaN</td>\n",
       "      <td>1 month ago</td>\n",
       "      <td>https://uk.linkedin.com/company/edge10group?tr...</td>\n",
       "    </tr>\n",
       "    <tr>\n",
       "      <th>4</th>\n",
       "      <td>Data Analyst</td>\n",
       "      <td>FocusKPI, Inc.</td>\n",
       "      <td>Los Angeles, CA</td>\n",
       "      <td>NaN</td>\n",
       "      <td>2 days ago</td>\n",
       "      <td>https://www.linkedin.com/company/focuskpi?trk=...</td>\n",
       "    </tr>\n",
       "  </tbody>\n",
       "</table>\n",
       "</div>"
      ],
      "text/plain": [
       "                                           Job_Title    Company_Name  \\\n",
       "0  Data Analyst, Marketing & Comms Strategy, Plan...         Netflix   \n",
       "1          Associate, Content Analytics & Operations         Netflix   \n",
       "2                            Research & Data Analyst  Hello Sunshine   \n",
       "3                                Junior Data Analyst    EDGE10 Group   \n",
       "4                                       Data Analyst  FocusKPI, Inc.   \n",
       "\n",
       "      Job_location      job_benefit      Job_time  \\\n",
       "0  Los Angeles, CA  Actively Hiring   2 weeks ago   \n",
       "1  Los Angeles, CA  Actively Hiring   2 weeks ago   \n",
       "2  Los Angeles, CA              NaN  2 months ago   \n",
       "3  Los Angeles, CA              NaN   1 month ago   \n",
       "4  Los Angeles, CA              NaN    2 days ago   \n",
       "\n",
       "                                            Job_link  \n",
       "0  https://www.linkedin.com/company/netflix?trk=p...  \n",
       "1  https://www.linkedin.com/company/netflix?trk=p...  \n",
       "2  https://www.linkedin.com/company/hello-sunshin...  \n",
       "3  https://uk.linkedin.com/company/edge10group?tr...  \n",
       "4  https://www.linkedin.com/company/focuskpi?trk=...  "
      ]
     },
     "execution_count": 123,
     "metadata": {},
     "output_type": "execute_result"
    }
   ],
   "source": [
    "df = pd.read_csv('Data_analysis_jobs_1.csv')\n",
    "df.head()"
   ]
  },
  {
   "cell_type": "code",
   "execution_count": 129,
   "id": "b82a09e1-4553-45bc-919d-c8900b90fb3d",
   "metadata": {},
   "outputs": [],
   "source": [
    "unique_job_link = df[df[\"job_benefit\"]==\"Actively Hiring\"]['Job_link'].unique()"
   ]
  },
  {
   "cell_type": "code",
   "execution_count": 131,
   "id": "ef09eb3e-cd14-403c-b8f7-e2bccd3f83d7",
   "metadata": {},
   "outputs": [],
   "source": [
    "unique_company_title = df[df[\"job_benefit\"]==\"Actively Hiring\"]['Company_Name'].unique()"
   ]
  },
  {
   "cell_type": "code",
   "execution_count": 133,
   "id": "fe529e90-63f2-4dbc-8680-5f63b9b24460",
   "metadata": {},
   "outputs": [],
   "source": [
    "data = {\n",
    "    \"Comapany_Name\" : unique_company_title,\n",
    "    \"Job_link\" : unique_job_link\n",
    "    \n",
    "}"
   ]
  },
  {
   "cell_type": "code",
   "execution_count": 135,
   "id": "97d71f60-486e-4963-82a6-a92bd841c670",
   "metadata": {},
   "outputs": [],
   "source": [
    "dff = pd.DataFrame(data)"
   ]
  },
  {
   "cell_type": "code",
   "execution_count": 136,
   "id": "c44be553-56e9-4aaf-a797-d17d99cd34d9",
   "metadata": {},
   "outputs": [
    {
     "data": {
      "text/html": [
       "<div>\n",
       "<style scoped>\n",
       "    .dataframe tbody tr th:only-of-type {\n",
       "        vertical-align: middle;\n",
       "    }\n",
       "\n",
       "    .dataframe tbody tr th {\n",
       "        vertical-align: top;\n",
       "    }\n",
       "\n",
       "    .dataframe thead th {\n",
       "        text-align: right;\n",
       "    }\n",
       "</style>\n",
       "<table border=\"1\" class=\"dataframe\">\n",
       "  <thead>\n",
       "    <tr style=\"text-align: right;\">\n",
       "      <th></th>\n",
       "      <th>Comapany_Name</th>\n",
       "      <th>Job_link</th>\n",
       "    </tr>\n",
       "  </thead>\n",
       "  <tbody>\n",
       "    <tr>\n",
       "      <th>0</th>\n",
       "      <td>Netflix</td>\n",
       "      <td>https://www.linkedin.com/company/netflix?trk=p...</td>\n",
       "    </tr>\n",
       "    <tr>\n",
       "      <th>1</th>\n",
       "      <td>GoodRx</td>\n",
       "      <td>https://www.linkedin.com/company/goodrx?trk=pu...</td>\n",
       "    </tr>\n",
       "    <tr>\n",
       "      <th>2</th>\n",
       "      <td>Peacock</td>\n",
       "      <td>https://www.linkedin.com/company/peacocktv?trk...</td>\n",
       "    </tr>\n",
       "    <tr>\n",
       "      <th>3</th>\n",
       "      <td>1872 Consulting</td>\n",
       "      <td>https://www.linkedin.com/company/1872-consulti...</td>\n",
       "    </tr>\n",
       "    <tr>\n",
       "      <th>4</th>\n",
       "      <td>Hanmi Bank</td>\n",
       "      <td>https://www.linkedin.com/company/hanmi-bank?tr...</td>\n",
       "    </tr>\n",
       "    <tr>\n",
       "      <th>5</th>\n",
       "      <td>TikTok</td>\n",
       "      <td>https://www.linkedin.com/company/tiktok?trk=pu...</td>\n",
       "    </tr>\n",
       "    <tr>\n",
       "      <th>6</th>\n",
       "      <td>REVOLVE</td>\n",
       "      <td>https://www.linkedin.com/company/revolve-?trk=...</td>\n",
       "    </tr>\n",
       "    <tr>\n",
       "      <th>7</th>\n",
       "      <td>Saragossa</td>\n",
       "      <td>https://uk.linkedin.com/company/saragossa?trk=...</td>\n",
       "    </tr>\n",
       "    <tr>\n",
       "      <th>8</th>\n",
       "      <td>Open Influence</td>\n",
       "      <td>https://www.linkedin.com/company/openinfluence...</td>\n",
       "    </tr>\n",
       "    <tr>\n",
       "      <th>9</th>\n",
       "      <td>Cognizant</td>\n",
       "      <td>https://www.linkedin.com/company/cognizant?trk...</td>\n",
       "    </tr>\n",
       "    <tr>\n",
       "      <th>10</th>\n",
       "      <td>Activision</td>\n",
       "      <td>https://www.linkedin.com/company/activision?tr...</td>\n",
       "    </tr>\n",
       "    <tr>\n",
       "      <th>11</th>\n",
       "      <td>DoorDash</td>\n",
       "      <td>https://www.linkedin.com/company/doordash?trk=...</td>\n",
       "    </tr>\n",
       "  </tbody>\n",
       "</table>\n",
       "</div>"
      ],
      "text/plain": [
       "      Comapany_Name                                           Job_link\n",
       "0           Netflix  https://www.linkedin.com/company/netflix?trk=p...\n",
       "1            GoodRx  https://www.linkedin.com/company/goodrx?trk=pu...\n",
       "2           Peacock  https://www.linkedin.com/company/peacocktv?trk...\n",
       "3   1872 Consulting  https://www.linkedin.com/company/1872-consulti...\n",
       "4        Hanmi Bank  https://www.linkedin.com/company/hanmi-bank?tr...\n",
       "5            TikTok  https://www.linkedin.com/company/tiktok?trk=pu...\n",
       "6           REVOLVE  https://www.linkedin.com/company/revolve-?trk=...\n",
       "7         Saragossa  https://uk.linkedin.com/company/saragossa?trk=...\n",
       "8    Open Influence  https://www.linkedin.com/company/openinfluence...\n",
       "9         Cognizant  https://www.linkedin.com/company/cognizant?trk...\n",
       "10       Activision  https://www.linkedin.com/company/activision?tr...\n",
       "11         DoorDash  https://www.linkedin.com/company/doordash?trk=..."
      ]
     },
     "execution_count": 136,
     "metadata": {},
     "output_type": "execute_result"
    }
   ],
   "source": [
    "dff"
   ]
  },
  {
   "cell_type": "code",
   "execution_count": 137,
   "id": "e62688f5-9222-4586-bee5-c20b5e7096d3",
   "metadata": {},
   "outputs": [],
   "source": [
    "ds = df[df[\"job_benefit\"]==\"Actively Hiring\"]"
   ]
  },
  {
   "cell_type": "code",
   "execution_count": null,
   "id": "d65c0503-1083-452a-89eb-8d274348128a",
   "metadata": {},
   "outputs": [],
   "source": []
  },
  {
   "cell_type": "code",
   "execution_count": null,
   "id": "30e80773-15ba-41ae-9316-8bd60c05fe63",
   "metadata": {},
   "outputs": [],
   "source": []
  }
 ],
 "metadata": {
  "kernelspec": {
   "display_name": "Python 3",
   "language": "python",
   "name": "python3"
  },
  "language_info": {
   "codemirror_mode": {
    "name": "ipython",
    "version": 3
   },
   "file_extension": ".py",
   "mimetype": "text/x-python",
   "name": "python",
   "nbconvert_exporter": "python",
   "pygments_lexer": "ipython3",
   "version": "3.8.8"
  }
 },
 "nbformat": 4,
 "nbformat_minor": 5
}
