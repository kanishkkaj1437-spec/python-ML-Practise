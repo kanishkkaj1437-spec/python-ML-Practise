{
 "cells": [
  {
   "cell_type": "code",
   "execution_count": 1,
   "id": "f830ae1f-4926-4248-94fd-9314d1b33d98",
   "metadata": {},
   "outputs": [],
   "source": [
    "from bs4 import BeautifulSoup as bs\n",
    "import requests"
   ]
  },
  {
   "cell_type": "code",
   "execution_count": 2,
   "id": "2b6ab0c1-fa51-4a29-bc98-845fb2805735",
   "metadata": {},
   "outputs": [],
   "source": [
    "r = requests.get(\"http://olympus.realpython.org/profiles\")\n",
    "soup = bs(r.content)\n",
    "content = soup.prettify()\n"
   ]
  },
  {
   "cell_type": "code",
   "execution_count": null,
   "id": "3e5fc48d-ec6f-445f-93b2-25521ca81cbc",
   "metadata": {},
   "outputs": [
    {
     "data": {
      "text/plain": [
       "200"
      ]
     },
     "execution_count": 42,
     "metadata": {},
     "output_type": "execute_result"
    }
   ],
   "source": [
    "r.status_code"
   ]
  },
  {
   "cell_type": "code",
   "execution_count": 3,
   "id": "d10737c2-47b8-4cbc-91de-3c416a725939",
   "metadata": {},
   "outputs": [
    {
     "data": {
      "text/plain": [
       "'<html>\\n <head>\\n  <title>\\n   All Profiles\\n  </title>\\n </head>\\n <body bgcolor=\"yellow\">\\n  <center>\\n   <br/>\\n   <br/>\\n   <h1>\\n    All Profiles:\\n   </h1>\\n   <br/>\\n   <br/>\\n   <h2>\\n    <a href=\"/profiles/aphrodite\">\\n     Aphrodite\\n    </a>\\n    <br/>\\n    <br/>\\n    <a href=\"/profiles/poseidon\">\\n     Poseidon\\n    </a>\\n    <br/>\\n    <br/>\\n    <a href=\"/profiles/dionysus\">\\n     Dionysus\\n    </a>\\n   </h2>\\n  </center>\\n </body>\\n</html>\\n'"
      ]
     },
     "execution_count": 3,
     "metadata": {},
     "output_type": "execute_result"
    }
   ],
   "source": [
    "content"
   ]
  },
  {
   "cell_type": "code",
   "execution_count": 5,
   "id": "7ed60960-f173-48ca-8cf9-b89ee13968a6",
   "metadata": {},
   "outputs": [
    {
     "name": "stdout",
     "output_type": "stream",
     "text": [
      "[<a href=\"/profiles/aphrodite\">Aphrodite</a>, <a href=\"/profiles/poseidon\">Poseidon</a>, <a href=\"/profiles/dionysus\">Dionysus</a>]\n"
     ]
    }
   ],
   "source": [
    "aa = soup.find_all(\"a\")\n",
    "print(aa)"
   ]
  },
  {
   "cell_type": "code",
   "execution_count": 30,
   "id": "6743bd1e-bb21-4950-8904-c9a396ef15d1",
   "metadata": {},
   "outputs": [
    {
     "name": "stdout",
     "output_type": "stream",
     "text": [
      "http://olympus.realpython.org/profiles/aphrodite\n",
      "http://olympus.realpython.org/profiles/poseidon\n",
      "http://olympus.realpython.org/profiles/dionysus\n"
     ]
    }
   ],
   "source": [
    "base_path = 'http://olympus.realpython.org'\n",
    "for ap in aa:\n",
    "    \n",
    "    aat = ap[\"href\"]\n",
    "    print(base_path+aat)"
   ]
  },
  {
   "cell_type": "markdown",
   "id": "e9f39e55-870f-4ff5-b8a2-c62c214d7b52",
   "metadata": {},
   "source": [
    "### Mechanical Soup"
   ]
  },
  {
   "cell_type": "code",
   "execution_count": 10,
   "id": "bcbf6037-2ef1-48ad-9f28-eae6d7095dc2",
   "metadata": {},
   "outputs": [],
   "source": [
    "import mechanicalsoup"
   ]
  },
  {
   "cell_type": "code",
   "execution_count": 11,
   "id": "4bd65564-5ac3-4e42-8034-de0fa8eb30c1",
   "metadata": {},
   "outputs": [],
   "source": [
    "browser = mechanicalsoup.Browser()"
   ]
  },
  {
   "cell_type": "code",
   "execution_count": 12,
   "id": "b0ecaa38-951c-44b0-8954-cc725a48659d",
   "metadata": {},
   "outputs": [],
   "source": [
    "url = \"http://olympus.realpython.org/login\"\n",
    "page = browser.get(url)"
   ]
  },
  {
   "cell_type": "code",
   "execution_count": 13,
   "id": "0f12cffa-769e-45d6-8db5-f3ab9eba2708",
   "metadata": {},
   "outputs": [
    {
     "data": {
      "text/plain": [
       "<Response [200]>"
      ]
     },
     "execution_count": 13,
     "metadata": {},
     "output_type": "execute_result"
    }
   ],
   "source": [
    "page"
   ]
  },
  {
   "cell_type": "code",
   "execution_count": 14,
   "id": "ca4bb3cf-ea8e-4178-90e2-34a058ce57ff",
   "metadata": {},
   "outputs": [
    {
     "data": {
      "text/plain": [
       "bs4.BeautifulSoup"
      ]
     },
     "execution_count": 14,
     "metadata": {},
     "output_type": "execute_result"
    }
   ],
   "source": [
    "type(page.soup)"
   ]
  },
  {
   "cell_type": "code",
   "execution_count": 15,
   "id": "85ffca79-6917-4e58-8a9e-0f91e7efa843",
   "metadata": {},
   "outputs": [
    {
     "data": {
      "text/plain": [
       "<html>\n",
       "<head>\n",
       "<title>Log In</title>\n",
       "</head>\n",
       "<body bgcolor=\"yellow\">\n",
       "<center>\n",
       "<br/><br/>\n",
       "<h2>Please log in to access Mount Olympus:</h2>\n",
       "<br/><br/>\n",
       "<form action=\"/login\" method=\"post\" name=\"login\">\n",
       "Username: <input name=\"user\" type=\"text\"/><br/>\n",
       "Password: <input name=\"pwd\" type=\"password\"/><br/><br/>\n",
       "<input type=\"submit\" value=\"Submit\"/>\n",
       "</form>\n",
       "</center>\n",
       "</body>\n",
       "</html>"
      ]
     },
     "execution_count": 15,
     "metadata": {},
     "output_type": "execute_result"
    }
   ],
   "source": [
    "page.soup"
   ]
  },
  {
   "cell_type": "code",
   "execution_count": 16,
   "id": "b31e26d6-bdb9-4477-85cc-cc25ef27980b",
   "metadata": {},
   "outputs": [],
   "source": [
    "page_html = page.soup"
   ]
  },
  {
   "cell_type": "code",
   "execution_count": 20,
   "id": "35436a21-11a4-47ff-b676-dc792934d960",
   "metadata": {},
   "outputs": [],
   "source": [
    "form = page_html.select(\"form\")[0]"
   ]
  },
  {
   "cell_type": "code",
   "execution_count": 21,
   "id": "a94fe92c-542d-4590-986c-513fe2acb352",
   "metadata": {},
   "outputs": [
    {
     "data": {
      "text/plain": [
       "<form action=\"/login\" method=\"post\" name=\"login\">\n",
       "Username: <input name=\"user\" type=\"text\"/><br/>\n",
       "Password: <input name=\"pwd\" type=\"password\"/><br/><br/>\n",
       "<input type=\"submit\" value=\"Submit\"/>\n",
       "</form>"
      ]
     },
     "execution_count": 21,
     "metadata": {},
     "output_type": "execute_result"
    }
   ],
   "source": [
    "form"
   ]
  },
  {
   "cell_type": "code",
   "execution_count": 26,
   "id": "c4dd2ee2-3350-4311-8444-cbf85092ad6e",
   "metadata": {},
   "outputs": [],
   "source": [
    "form.select(\"input\")[0][\"value\"] = \"zeus\"\n",
    "form.select(\"input\")[1][\"value\"] = \"ThunderDude\"\n"
   ]
  },
  {
   "cell_type": "code",
   "execution_count": 27,
   "id": "39e6d3b3-0f2c-432e-9733-3abee9ad1ccb",
   "metadata": {},
   "outputs": [],
   "source": [
    "profiles_page = browser.submit(form,page.url)"
   ]
  },
  {
   "cell_type": "code",
   "execution_count": 29,
   "id": "56c597a0-5371-4e98-874a-9ee89e50d917",
   "metadata": {},
   "outputs": [
    {
     "data": {
      "text/plain": [
       "'http://olympus.realpython.org/profiles'"
      ]
     },
     "execution_count": 29,
     "metadata": {},
     "output_type": "execute_result"
    }
   ],
   "source": [
    "profiles_page.url"
   ]
  },
  {
   "cell_type": "markdown",
   "id": "81e50402-6f85-47c3-9375-3eae7c91c740",
   "metadata": {},
   "source": [
    "### 2 page"
   ]
  },
  {
   "cell_type": "code",
   "execution_count": 40,
   "id": "020b4cbf-4b22-410a-89c7-58b29e5f31dc",
   "metadata": {},
   "outputs": [],
   "source": [
    "import time"
   ]
  },
  {
   "cell_type": "code",
   "execution_count": 41,
   "id": "7dad3d3a-bf4e-4aa9-b117-69da64e1133d",
   "metadata": {},
   "outputs": [
    {
     "name": "stdout",
     "output_type": "stream",
     "text": [
      "2\n",
      "4\n",
      "3\n",
      "3\n"
     ]
    }
   ],
   "source": [
    "for i in range(4):   \n",
    "    ppage = browser.get(\"http://olympus.realpython.org/dice\")\n",
    "    tagg = ppage.soup.select(\"#result\")[0]\n",
    "    yoyo = tagg.text\n",
    "    print (yoyo)\n",
    "    time.sleep(10)\n",
    "    "
   ]
  },
  {
   "cell_type": "code",
   "execution_count": 35,
   "id": "c7180919-e291-4c53-a573-e42c81c40310",
   "metadata": {},
   "outputs": [],
   "source": []
  },
  {
   "cell_type": "code",
   "execution_count": 36,
   "id": "e1cc70ab-757b-4da6-ab75-29ac360bc3da",
   "metadata": {},
   "outputs": [
    {
     "data": {
      "text/plain": [
       "<h2 id=\"result\">5</h2>"
      ]
     },
     "execution_count": 36,
     "metadata": {},
     "output_type": "execute_result"
    }
   ],
   "source": [
    "tagg"
   ]
  },
  {
   "cell_type": "code",
   "execution_count": 37,
   "id": "6b4e6802-94c4-4f9f-b38a-da2a099a2a47",
   "metadata": {},
   "outputs": [
    {
     "data": {
      "text/plain": [
       "'5'"
      ]
     },
     "execution_count": 37,
     "metadata": {},
     "output_type": "execute_result"
    }
   ],
   "source": []
  },
  {
   "cell_type": "code",
   "execution_count": null,
   "id": "ca3b9147-132c-4905-9594-b5b1b391dfe0",
   "metadata": {},
   "outputs": [],
   "source": []
  }
 ],
 "metadata": {
  "kernelspec": {
   "display_name": "Python 3",
   "language": "python",
   "name": "python3"
  },
  "language_info": {
   "codemirror_mode": {
    "name": "ipython",
    "version": 3
   },
   "file_extension": ".py",
   "mimetype": "text/x-python",
   "name": "python",
   "nbconvert_exporter": "python",
   "pygments_lexer": "ipython3",
   "version": "3.8.8"
  }
 },
 "nbformat": 4,
 "nbformat_minor": 5
}
