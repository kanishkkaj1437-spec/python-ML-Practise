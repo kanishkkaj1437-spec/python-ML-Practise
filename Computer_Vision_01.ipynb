{
 "cells": [
  {
   "cell_type": "code",
   "execution_count": null,
   "id": "37e9224b-d6ef-49bc-924a-66fcc809e2ba",
   "metadata": {},
   "outputs": [],
   "source": [
    "import cv2 as cv"
   ]
  },
  {
   "cell_type": "code",
   "execution_count": null,
   "id": "deb1beff-b363-4112-a8f3-447b94d4c458",
   "metadata": {},
   "outputs": [],
   "source": [
    "img = cv.imread(\"./images/cat.jpg\")\n"
   ]
  },
  {
   "cell_type": "code",
   "execution_count": null,
   "id": "891387a4-2b05-4931-9a20-520d4151ee5d",
   "metadata": {},
   "outputs": [],
   "source": [
    "cv.imshow(img)"
   ]
  },
  {
   "cell_type": "code",
   "execution_count": null,
   "id": "f757b700-63f1-4eb5-bc78-d0df4ef82830",
   "metadata": {},
   "outputs": [],
   "source": []
  }
 ],
 "metadata": {
  "kernelspec": {
   "display_name": "Python 3",
   "language": "python",
   "name": "python3"
  },
  "language_info": {
   "codemirror_mode": {
    "name": "ipython",
    "version": 3
   },
   "file_extension": ".py",
   "mimetype": "text/x-python",
   "name": "python",
   "nbconvert_exporter": "python",
   "pygments_lexer": "ipython3",
   "version": "3.8.8"
  }
 },
 "nbformat": 4,
 "nbformat_minor": 5
}
